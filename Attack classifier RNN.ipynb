{
 "cells": [
  {
   "cell_type": "code",
   "execution_count": 1,
   "metadata": {},
   "outputs": [],
   "source": [
    "from __future__ import print_function, division\n",
    "from builtins import range"
   ]
  },
  {
   "cell_type": "code",
   "execution_count": 2,
   "metadata": {},
   "outputs": [],
   "source": [
    "import warnings\n",
    "warnings.filterwarnings('ignore')"
   ]
  },
  {
   "cell_type": "code",
   "execution_count": 3,
   "metadata": {},
   "outputs": [],
   "source": [
    "import os\n",
    "import sys\n",
    "import numpy as np\n",
    "import pandas as pd\n",
    "import matplotlib.pyplot as plt\n",
    "from keras.preprocessing.text import Tokenizer\n",
    "from keras.preprocessing.sequence import pad_sequences\n",
    "from keras.layers import Dense, Input, Embedding\n",
    "from keras.layers import Conv1D, LSTM, Bidirectional, GlobalMaxPool1D, Dropout\n",
    "from keras.models import Model\n",
    "from keras.optimizers import Adam\n",
    "from sklearn.metrics import roc_auc_score"
   ]
  },
  {
   "cell_type": "code",
   "execution_count": 4,
   "metadata": {},
   "outputs": [],
   "source": [
    "import keras.backend as K"
   ]
  },
  {
   "cell_type": "code",
   "execution_count": 5,
   "metadata": {},
   "outputs": [],
   "source": [
    "# Download the word vectors:\n",
    "# http://nlp.stanford.edu/data/glove.6B.zip"
   ]
  },
  {
   "cell_type": "code",
   "execution_count": 6,
   "metadata": {},
   "outputs": [],
   "source": [
    "MAX_SEQUENCE_LENGTH = 200\n",
    "MAX_VOCAB_SIZE = 20000\n",
    "EMBEDDING_DIM = 50\n",
    "VALIDATION_SPLIT = 0.2\n",
    "BATCH_SIZE = 128\n",
    "EPOCHS = 100"
   ]
  },
  {
   "cell_type": "code",
   "execution_count": 7,
   "metadata": {},
   "outputs": [
    {
     "name": "stdout",
     "output_type": "stream",
     "text": [
      "Loading word vectors...\n",
      "Found 400000 word vectors.\n"
     ]
    }
   ],
   "source": [
    "# load in pre-tained word vectors\n",
    "print(\"Loading word vectors...\")\n",
    "word2vec = {}\n",
    "with open(os.path.join('data/glove.6B.%sd.txt' % EMBEDDING_DIM)) as f:\n",
    "    for line in f:\n",
    "        values = line.split()\n",
    "        word = values[0]\n",
    "        vec = np.asarray(values[1:], dtype='float32')\n",
    "        word2vec[word] = vec\n",
    "print('Found %s word vectors.' % len(word2vec))"
   ]
  },
  {
   "cell_type": "code",
   "execution_count": 8,
   "metadata": {},
   "outputs": [
    {
     "name": "stdout",
     "output_type": "stream",
     "text": [
      "Loading in data...\n"
     ]
    }
   ],
   "source": [
    "# prepare the text smaples and their labels\n",
    "print('Loading in data...')\n",
    "\n",
    "attack_data = pd.read_csv('data/attackset.csv')\n",
    "attack_data = attack_data.sample(frac=1).reset_index(drop=True)\n",
    "sentences = attack_data['Web Description'].fillna('DUMMY_VALUE').values\n",
    "possible_labels = ['Bruteforce', 'DoS', 'insider', 'phishing', 'ransomware', 'Trojan', 'Web']\n",
    "targets = attack_data[possible_labels].values"
   ]
  },
  {
   "cell_type": "code",
   "execution_count": 9,
   "metadata": {},
   "outputs": [],
   "source": [
    "# convert the sentences into integers\n",
    "tokenizer = Tokenizer(num_words=MAX_VOCAB_SIZE)\n",
    "tokenizer.fit_on_texts(sentences)\n",
    "sequences = tokenizer.texts_to_sequences(sentences)"
   ]
  },
  {
   "cell_type": "code",
   "execution_count": 10,
   "metadata": {},
   "outputs": [
    {
     "name": "stdout",
     "output_type": "stream",
     "text": [
      "max sequence length:  3297\n",
      "min sequence length:  32\n",
      "median sequence length:  106\n",
      "max word index:  4169\n"
     ]
    }
   ],
   "source": [
    "print('max sequence length: ', max(len(s) for s in sentences))\n",
    "print('min sequence length: ', min(len(s) for s in sentences))\n",
    "s = sorted(len(s) for s in sequences)\n",
    "print('median sequence length: ', s[len(s) // 2])\n",
    "print('max word index: ', max(max(seq) for seq in sequences if len(seq) > 0))"
   ]
  },
  {
   "cell_type": "code",
   "execution_count": 11,
   "metadata": {},
   "outputs": [
    {
     "name": "stdout",
     "output_type": "stream",
     "text": [
      "Found 4169 unique tokens.\n"
     ]
    }
   ],
   "source": [
    "# get word -> integer mapping\n",
    "word2idx = tokenizer.word_index\n",
    "print('Found %s unique tokens.' % len(word2idx))"
   ]
  },
  {
   "cell_type": "code",
   "execution_count": 12,
   "metadata": {},
   "outputs": [
    {
     "name": "stdout",
     "output_type": "stream",
     "text": [
      "Shape of data tensor:  (785, 200)\n"
     ]
    }
   ],
   "source": [
    "# pad sequence so that we get N x T matrix\n",
    "data = pad_sequences(sequences, maxlen=MAX_SEQUENCE_LENGTH)\n",
    "print('Shape of data tensor: ', data.shape)"
   ]
  },
  {
   "cell_type": "code",
   "execution_count": 13,
   "metadata": {},
   "outputs": [
    {
     "name": "stdout",
     "output_type": "stream",
     "text": [
      "Filling pre-trained embeddings...\n"
     ]
    }
   ],
   "source": [
    "# prepare embedding matrix\n",
    "print('Filling pre-trained embeddings...')\n",
    "num_words = min(MAX_VOCAB_SIZE, len(word2idx) +1)\n",
    "embedding_matrix = np.zeros((num_words, EMBEDDING_DIM))\n",
    "for word, i in word2idx.items():\n",
    "    if i < MAX_VOCAB_SIZE:\n",
    "        embedding_vector = word2vec.get(word)\n",
    "        if embedding_vector is not None:\n",
    "            # words not found in embedding index will be all zeros\n",
    "            embedding_matrix[i] = embedding_vector"
   ]
  },
  {
   "cell_type": "code",
   "execution_count": 14,
   "metadata": {},
   "outputs": [],
   "source": [
    "from sklearn.model_selection import train_test_split    \n",
    "from sklearn.preprocessing import MinMaxScaler"
   ]
  },
  {
   "cell_type": "code",
   "execution_count": 15,
   "metadata": {},
   "outputs": [],
   "source": [
    "X_train, X_test, y_train, y_test = train_test_split(data, targets, test_size=VALIDATION_SPLIT, random_state=101)"
   ]
  },
  {
   "cell_type": "code",
   "execution_count": 16,
   "metadata": {},
   "outputs": [],
   "source": [
    "# load pre-trained word embeddings into an Embedding layer\n",
    "# note that we set trainable = False so as to keep the embeddings fixed\n",
    "embedding_layer = Embedding(\n",
    "    num_words,\n",
    "    EMBEDDING_DIM,\n",
    "    weights=[embedding_matrix],\n",
    "    input_length=MAX_SEQUENCE_LENGTH,\n",
    "    trainable=False\n",
    ")"
   ]
  },
  {
   "cell_type": "code",
   "execution_count": 17,
   "metadata": {},
   "outputs": [],
   "source": [
    "from keras.models import Sequential\n",
    "from keras.layers import Dense, LSTM, Dropout, GRU, Bidirectional, SpatialDropout1D\n",
    "from keras.optimizers import SGD\n",
    "import math\n",
    "from sklearn.metrics import mean_squared_error"
   ]
  },
  {
   "cell_type": "code",
   "execution_count": 18,
   "metadata": {},
   "outputs": [
    {
     "name": "stdout",
     "output_type": "stream",
     "text": [
      "Building model...\n"
     ]
    }
   ],
   "source": [
    "print('Building model...')\n",
    "input_ = Input(shape=(MAX_SEQUENCE_LENGTH,))\n",
    "x = embedding_layer(input_)\n",
    "# x = LSTM(15, return_sequences=True)(x)\n",
    "x = Bidirectional(LSTM(15, return_sequences=True))(x)\n",
    "x = GlobalMaxPool1D()(x)\n",
    "output = Dense(len(possible_labels), activation='sigmoid')(x)"
   ]
  },
  {
   "cell_type": "code",
   "execution_count": 19,
   "metadata": {},
   "outputs": [],
   "source": [
    "model = Model(input_, output)\n",
    "model.compile(\n",
    "    loss='binary_crossentropy',\n",
    "    optimizer=Adam(lr=0.01),\n",
    "    metrics=['accuracy']\n",
    ")"
   ]
  },
  {
   "cell_type": "code",
   "execution_count": 20,
   "metadata": {},
   "outputs": [
    {
     "name": "stdout",
     "output_type": "stream",
     "text": [
      "Training model...\n",
      "Epoch 1/100\n",
      "5/5 [==============================] - 2s 329ms/step - loss: 0.5771 - accuracy: 0.2611 - val_loss: 0.3969 - val_accuracy: 0.2994\n",
      "Epoch 2/100\n",
      "5/5 [==============================] - 1s 166ms/step - loss: 0.3734 - accuracy: 0.2866 - val_loss: 0.3298 - val_accuracy: 0.4713\n",
      "Epoch 3/100\n",
      "5/5 [==============================] - 1s 193ms/step - loss: 0.3261 - accuracy: 0.4920 - val_loss: 0.2977 - val_accuracy: 0.5541\n",
      "Epoch 4/100\n",
      "5/5 [==============================] - 1s 163ms/step - loss: 0.3028 - accuracy: 0.6306 - val_loss: 0.2773 - val_accuracy: 0.6943\n",
      "Epoch 5/100\n",
      "5/5 [==============================] - 1s 159ms/step - loss: 0.2883 - accuracy: 0.6672 - val_loss: 0.2634 - val_accuracy: 0.6943\n",
      "Epoch 6/100\n",
      "5/5 [==============================] - 1s 162ms/step - loss: 0.2763 - accuracy: 0.6672 - val_loss: 0.2515 - val_accuracy: 0.6943\n",
      "Epoch 7/100\n",
      "5/5 [==============================] - 1s 159ms/step - loss: 0.2668 - accuracy: 0.6656 - val_loss: 0.2419 - val_accuracy: 0.6943\n",
      "Epoch 8/100\n",
      "5/5 [==============================] - 1s 162ms/step - loss: 0.2579 - accuracy: 0.6672 - val_loss: 0.2324 - val_accuracy: 0.6943\n",
      "Epoch 9/100\n",
      "5/5 [==============================] - 1s 169ms/step - loss: 0.2496 - accuracy: 0.6672 - val_loss: 0.2238 - val_accuracy: 0.6943\n",
      "Epoch 10/100\n",
      "5/5 [==============================] - 1s 171ms/step - loss: 0.2414 - accuracy: 0.6752 - val_loss: 0.2145 - val_accuracy: 0.7389\n",
      "Epoch 11/100\n",
      "5/5 [==============================] - 1s 161ms/step - loss: 0.2322 - accuracy: 0.7006 - val_loss: 0.2057 - val_accuracy: 0.7389\n",
      "Epoch 12/100\n",
      "5/5 [==============================] - 1s 175ms/step - loss: 0.2240 - accuracy: 0.7006 - val_loss: 0.1984 - val_accuracy: 0.7389\n",
      "Epoch 13/100\n",
      "5/5 [==============================] - 1s 198ms/step - loss: 0.2157 - accuracy: 0.7054 - val_loss: 0.1906 - val_accuracy: 0.7452\n",
      "Epoch 14/100\n",
      "5/5 [==============================] - 1s 177ms/step - loss: 0.2087 - accuracy: 0.7070 - val_loss: 0.1834 - val_accuracy: 0.7452\n",
      "Epoch 15/100\n",
      "5/5 [==============================] - 1s 168ms/step - loss: 0.2013 - accuracy: 0.7134 - val_loss: 0.1767 - val_accuracy: 0.7643\n",
      "Epoch 16/100\n",
      "5/5 [==============================] - 1s 161ms/step - loss: 0.1948 - accuracy: 0.7150 - val_loss: 0.1711 - val_accuracy: 0.7643\n",
      "Epoch 17/100\n",
      "5/5 [==============================] - 1s 198ms/step - loss: 0.1883 - accuracy: 0.7261 - val_loss: 0.1658 - val_accuracy: 0.7707\n",
      "Epoch 18/100\n",
      "5/5 [==============================] - 1s 218ms/step - loss: 0.1819 - accuracy: 0.7436 - val_loss: 0.1595 - val_accuracy: 0.7898\n",
      "Epoch 19/100\n",
      "5/5 [==============================] - 1s 216ms/step - loss: 0.1759 - accuracy: 0.7818 - val_loss: 0.1541 - val_accuracy: 0.8217\n",
      "Epoch 20/100\n",
      "5/5 [==============================] - 1s 251ms/step - loss: 0.1695 - accuracy: 0.7946 - val_loss: 0.1479 - val_accuracy: 0.8408\n",
      "Epoch 21/100\n",
      "5/5 [==============================] - 1s 230ms/step - loss: 0.1630 - accuracy: 0.8105 - val_loss: 0.1426 - val_accuracy: 0.8662\n",
      "Epoch 22/100\n",
      "5/5 [==============================] - 1s 235ms/step - loss: 0.1577 - accuracy: 0.8248 - val_loss: 0.1389 - val_accuracy: 0.8662\n",
      "Epoch 23/100\n",
      "5/5 [==============================] - 1s 233ms/step - loss: 0.1513 - accuracy: 0.8408 - val_loss: 0.1341 - val_accuracy: 0.8599\n",
      "Epoch 24/100\n",
      "5/5 [==============================] - 1s 206ms/step - loss: 0.1472 - accuracy: 0.8376 - val_loss: 0.1283 - val_accuracy: 0.8662\n",
      "Epoch 25/100\n",
      "5/5 [==============================] - 1s 208ms/step - loss: 0.1406 - accuracy: 0.8583 - val_loss: 0.1264 - val_accuracy: 0.8599\n",
      "Epoch 26/100\n",
      "5/5 [==============================] - 1s 231ms/step - loss: 0.1357 - accuracy: 0.8662 - val_loss: 0.1228 - val_accuracy: 0.8535\n",
      "Epoch 27/100\n",
      "5/5 [==============================] - 1s 217ms/step - loss: 0.1295 - accuracy: 0.8694 - val_loss: 0.1170 - val_accuracy: 0.8535\n",
      "Epoch 28/100\n",
      "5/5 [==============================] - 1s 216ms/step - loss: 0.1238 - accuracy: 0.8806 - val_loss: 0.1128 - val_accuracy: 0.8471\n",
      "Epoch 29/100\n",
      "5/5 [==============================] - 1s 214ms/step - loss: 0.1198 - accuracy: 0.8838 - val_loss: 0.1084 - val_accuracy: 0.8790\n",
      "Epoch 30/100\n",
      "5/5 [==============================] - 1s 212ms/step - loss: 0.1150 - accuracy: 0.8854 - val_loss: 0.1047 - val_accuracy: 0.8854\n",
      "Epoch 31/100\n",
      "5/5 [==============================] - 1s 207ms/step - loss: 0.1108 - accuracy: 0.8854 - val_loss: 0.1016 - val_accuracy: 0.8854\n",
      "Epoch 32/100\n",
      "5/5 [==============================] - 1s 209ms/step - loss: 0.1058 - accuracy: 0.8949 - val_loss: 0.0953 - val_accuracy: 0.8854\n",
      "Epoch 33/100\n",
      "5/5 [==============================] - 1s 220ms/step - loss: 0.1017 - accuracy: 0.8965 - val_loss: 0.0977 - val_accuracy: 0.8854\n",
      "Epoch 34/100\n",
      "5/5 [==============================] - 1s 214ms/step - loss: 0.0999 - accuracy: 0.8933 - val_loss: 0.0944 - val_accuracy: 0.8917\n",
      "Epoch 35/100\n",
      "5/5 [==============================] - 1s 221ms/step - loss: 0.0977 - accuracy: 0.8981 - val_loss: 0.0913 - val_accuracy: 0.8854\n",
      "Epoch 36/100\n",
      "5/5 [==============================] - 1s 224ms/step - loss: 0.0915 - accuracy: 0.9013 - val_loss: 0.0904 - val_accuracy: 0.8917\n",
      "Epoch 37/100\n",
      "5/5 [==============================] - 1s 223ms/step - loss: 0.0893 - accuracy: 0.9061 - val_loss: 0.0842 - val_accuracy: 0.9108\n",
      "Epoch 38/100\n",
      "5/5 [==============================] - 1s 225ms/step - loss: 0.0867 - accuracy: 0.9061 - val_loss: 0.0825 - val_accuracy: 0.9045\n",
      "Epoch 39/100\n",
      "5/5 [==============================] - 1s 217ms/step - loss: 0.0822 - accuracy: 0.9076 - val_loss: 0.0835 - val_accuracy: 0.9045\n",
      "Epoch 40/100\n",
      "5/5 [==============================] - 1s 215ms/step - loss: 0.0800 - accuracy: 0.9124 - val_loss: 0.0810 - val_accuracy: 0.8981\n",
      "Epoch 41/100\n",
      "5/5 [==============================] - 1s 239ms/step - loss: 0.0770 - accuracy: 0.9172 - val_loss: 0.0816 - val_accuracy: 0.9045\n",
      "Epoch 42/100\n",
      "5/5 [==============================] - 1s 216ms/step - loss: 0.0736 - accuracy: 0.9220 - val_loss: 0.0793 - val_accuracy: 0.9045\n",
      "Epoch 43/100\n",
      "5/5 [==============================] - 1s 211ms/step - loss: 0.0712 - accuracy: 0.9204 - val_loss: 0.0757 - val_accuracy: 0.9108\n",
      "Epoch 44/100\n",
      "5/5 [==============================] - 1s 214ms/step - loss: 0.0684 - accuracy: 0.9220 - val_loss: 0.0762 - val_accuracy: 0.9108\n",
      "Epoch 45/100\n",
      "5/5 [==============================] - 1s 212ms/step - loss: 0.0654 - accuracy: 0.9283 - val_loss: 0.0726 - val_accuracy: 0.9172\n",
      "Epoch 46/100\n",
      "5/5 [==============================] - 1s 209ms/step - loss: 0.0636 - accuracy: 0.9299 - val_loss: 0.0730 - val_accuracy: 0.9236\n",
      "Epoch 47/100\n",
      "5/5 [==============================] - 1s 208ms/step - loss: 0.0613 - accuracy: 0.9315 - val_loss: 0.0698 - val_accuracy: 0.9299\n",
      "Epoch 48/100\n",
      "5/5 [==============================] - 1s 226ms/step - loss: 0.0594 - accuracy: 0.9347 - val_loss: 0.0723 - val_accuracy: 0.9172\n",
      "Epoch 49/100\n",
      "5/5 [==============================] - 1s 208ms/step - loss: 0.0595 - accuracy: 0.9331 - val_loss: 0.0692 - val_accuracy: 0.9299\n",
      "Epoch 50/100\n",
      "5/5 [==============================] - 1s 236ms/step - loss: 0.0559 - accuracy: 0.9363 - val_loss: 0.0713 - val_accuracy: 0.9236\n",
      "Epoch 51/100\n",
      "5/5 [==============================] - 1s 270ms/step - loss: 0.0546 - accuracy: 0.9331 - val_loss: 0.0669 - val_accuracy: 0.9363\n",
      "Epoch 52/100\n",
      "5/5 [==============================] - 1s 248ms/step - loss: 0.0520 - accuracy: 0.9347 - val_loss: 0.0674 - val_accuracy: 0.9299\n",
      "Epoch 53/100\n",
      "5/5 [==============================] - 1s 241ms/step - loss: 0.0511 - accuracy: 0.9347 - val_loss: 0.0666 - val_accuracy: 0.9299\n",
      "Epoch 54/100\n",
      "5/5 [==============================] - 1s 235ms/step - loss: 0.0491 - accuracy: 0.9411 - val_loss: 0.0665 - val_accuracy: 0.9427\n",
      "Epoch 55/100\n",
      "5/5 [==============================] - 1s 293ms/step - loss: 0.0481 - accuracy: 0.9427 - val_loss: 0.0665 - val_accuracy: 0.9363\n",
      "Epoch 56/100\n",
      "5/5 [==============================] - 1s 232ms/step - loss: 0.0476 - accuracy: 0.9411 - val_loss: 0.0716 - val_accuracy: 0.9236\n",
      "Epoch 57/100\n",
      "5/5 [==============================] - 1s 231ms/step - loss: 0.0505 - accuracy: 0.9363 - val_loss: 0.0703 - val_accuracy: 0.9236\n",
      "Epoch 58/100\n"
     ]
    },
    {
     "name": "stdout",
     "output_type": "stream",
     "text": [
      "5/5 [==============================] - 1s 215ms/step - loss: 0.0483 - accuracy: 0.9427 - val_loss: 0.0734 - val_accuracy: 0.9236\n",
      "Epoch 59/100\n",
      "5/5 [==============================] - 1s 201ms/step - loss: 0.0538 - accuracy: 0.9347 - val_loss: 0.0726 - val_accuracy: 0.9299\n",
      "Epoch 60/100\n",
      "5/5 [==============================] - 1s 272ms/step - loss: 0.0486 - accuracy: 0.9459 - val_loss: 0.0629 - val_accuracy: 0.9427\n",
      "Epoch 61/100\n",
      "5/5 [==============================] - 1s 266ms/step - loss: 0.0488 - accuracy: 0.9395 - val_loss: 0.0690 - val_accuracy: 0.9299\n",
      "Epoch 62/100\n",
      "5/5 [==============================] - 2s 306ms/step - loss: 0.0472 - accuracy: 0.9475 - val_loss: 0.0689 - val_accuracy: 0.9363\n",
      "Epoch 63/100\n",
      "5/5 [==============================] - 1s 285ms/step - loss: 0.0467 - accuracy: 0.9475 - val_loss: 0.0640 - val_accuracy: 0.9363\n",
      "Epoch 64/100\n",
      "5/5 [==============================] - 2s 407ms/step - loss: 0.0401 - accuracy: 0.9570 - val_loss: 0.0777 - val_accuracy: 0.9108\n",
      "Epoch 65/100\n",
      "5/5 [==============================] - 2s 331ms/step - loss: 0.0427 - accuracy: 0.9443 - val_loss: 0.0685 - val_accuracy: 0.9299\n",
      "Epoch 66/100\n",
      "5/5 [==============================] - 2s 399ms/step - loss: 0.0409 - accuracy: 0.9570 - val_loss: 0.0687 - val_accuracy: 0.9299\n",
      "Epoch 67/100\n",
      "5/5 [==============================] - 2s 404ms/step - loss: 0.0384 - accuracy: 0.9602 - val_loss: 0.0702 - val_accuracy: 0.9299\n",
      "Epoch 68/100\n",
      "5/5 [==============================] - 2s 337ms/step - loss: 0.0369 - accuracy: 0.9602 - val_loss: 0.0706 - val_accuracy: 0.9172\n",
      "Epoch 69/100\n",
      "5/5 [==============================] - 1s 248ms/step - loss: 0.0347 - accuracy: 0.9618 - val_loss: 0.0669 - val_accuracy: 0.9299\n",
      "Epoch 70/100\n",
      "5/5 [==============================] - 1s 270ms/step - loss: 0.0331 - accuracy: 0.9682 - val_loss: 0.0662 - val_accuracy: 0.9299\n",
      "Epoch 71/100\n",
      "5/5 [==============================] - 1s 244ms/step - loss: 0.0319 - accuracy: 0.9697 - val_loss: 0.0661 - val_accuracy: 0.9299\n",
      "Epoch 72/100\n",
      "5/5 [==============================] - 1s 242ms/step - loss: 0.0311 - accuracy: 0.9697 - val_loss: 0.0716 - val_accuracy: 0.9172\n",
      "Epoch 73/100\n",
      "5/5 [==============================] - 1s 245ms/step - loss: 0.0302 - accuracy: 0.9745 - val_loss: 0.0687 - val_accuracy: 0.9363\n",
      "Epoch 74/100\n",
      "5/5 [==============================] - 1s 253ms/step - loss: 0.0293 - accuracy: 0.9761 - val_loss: 0.0695 - val_accuracy: 0.9172\n",
      "Epoch 75/100\n",
      "5/5 [==============================] - 1s 296ms/step - loss: 0.0281 - accuracy: 0.9761 - val_loss: 0.0664 - val_accuracy: 0.9299\n",
      "Epoch 76/100\n",
      "5/5 [==============================] - 1s 291ms/step - loss: 0.0270 - accuracy: 0.9777 - val_loss: 0.0633 - val_accuracy: 0.9299\n",
      "Epoch 77/100\n",
      "5/5 [==============================] - 1s 288ms/step - loss: 0.0262 - accuracy: 0.9777 - val_loss: 0.0647 - val_accuracy: 0.9299\n",
      "Epoch 78/100\n",
      "5/5 [==============================] - 1s 248ms/step - loss: 0.0258 - accuracy: 0.9777 - val_loss: 0.0671 - val_accuracy: 0.9299\n",
      "Epoch 79/100\n",
      "5/5 [==============================] - 1s 263ms/step - loss: 0.0253 - accuracy: 0.9793 - val_loss: 0.0637 - val_accuracy: 0.9299\n",
      "Epoch 80/100\n",
      "5/5 [==============================] - 1s 274ms/step - loss: 0.0243 - accuracy: 0.9825 - val_loss: 0.0639 - val_accuracy: 0.9363\n",
      "Epoch 81/100\n",
      "5/5 [==============================] - 1s 250ms/step - loss: 0.0233 - accuracy: 0.9825 - val_loss: 0.0626 - val_accuracy: 0.9363\n",
      "Epoch 82/100\n",
      "5/5 [==============================] - 2s 327ms/step - loss: 0.0238 - accuracy: 0.9825 - val_loss: 0.0680 - val_accuracy: 0.9299\n",
      "Epoch 83/100\n",
      "5/5 [==============================] - 1s 230ms/step - loss: 0.0231 - accuracy: 0.9841 - val_loss: 0.0733 - val_accuracy: 0.9172\n",
      "Epoch 84/100\n",
      "5/5 [==============================] - 1s 262ms/step - loss: 0.0230 - accuracy: 0.9809 - val_loss: 0.0724 - val_accuracy: 0.9236\n",
      "Epoch 85/100\n",
      "5/5 [==============================] - 1s 275ms/step - loss: 0.0219 - accuracy: 0.9841 - val_loss: 0.0715 - val_accuracy: 0.9236\n",
      "Epoch 86/100\n",
      "5/5 [==============================] - 1s 223ms/step - loss: 0.0210 - accuracy: 0.9841 - val_loss: 0.0739 - val_accuracy: 0.9236\n",
      "Epoch 87/100\n",
      "5/5 [==============================] - 1s 211ms/step - loss: 0.0204 - accuracy: 0.9873 - val_loss: 0.0726 - val_accuracy: 0.9363\n",
      "Epoch 88/100\n",
      "5/5 [==============================] - 1s 209ms/step - loss: 0.0214 - accuracy: 0.9857 - val_loss: 0.1094 - val_accuracy: 0.8790\n",
      "Epoch 89/100\n",
      "5/5 [==============================] - 1s 210ms/step - loss: 0.0290 - accuracy: 0.9713 - val_loss: 0.0658 - val_accuracy: 0.9363\n",
      "Epoch 90/100\n",
      "5/5 [==============================] - 1s 211ms/step - loss: 0.0270 - accuracy: 0.9777 - val_loss: 0.0649 - val_accuracy: 0.9363\n",
      "Epoch 91/100\n",
      "5/5 [==============================] - 1s 226ms/step - loss: 0.0276 - accuracy: 0.9761 - val_loss: 0.0687 - val_accuracy: 0.9363\n",
      "Epoch 92/100\n",
      "5/5 [==============================] - 1s 244ms/step - loss: 0.0220 - accuracy: 0.9825 - val_loss: 0.0717 - val_accuracy: 0.9236\n",
      "Epoch 93/100\n",
      "5/5 [==============================] - 1s 241ms/step - loss: 0.0200 - accuracy: 0.9857 - val_loss: 0.0688 - val_accuracy: 0.9299\n",
      "Epoch 94/100\n",
      "5/5 [==============================] - 1s 229ms/step - loss: 0.0189 - accuracy: 0.9904 - val_loss: 0.0749 - val_accuracy: 0.9299\n",
      "Epoch 95/100\n",
      "5/5 [==============================] - 1s 233ms/step - loss: 0.0176 - accuracy: 0.9889 - val_loss: 0.0777 - val_accuracy: 0.9299\n",
      "Epoch 96/100\n",
      "5/5 [==============================] - 2s 324ms/step - loss: 0.0168 - accuracy: 0.9904 - val_loss: 0.0824 - val_accuracy: 0.9299\n",
      "Epoch 97/100\n",
      "5/5 [==============================] - 1s 248ms/step - loss: 0.0160 - accuracy: 0.9920 - val_loss: 0.0789 - val_accuracy: 0.9299\n",
      "Epoch 98/100\n",
      "5/5 [==============================] - 1s 246ms/step - loss: 0.0154 - accuracy: 0.9920 - val_loss: 0.0796 - val_accuracy: 0.9299\n",
      "Epoch 99/100\n",
      "5/5 [==============================] - 1s 280ms/step - loss: 0.0149 - accuracy: 0.9920 - val_loss: 0.0805 - val_accuracy: 0.9299\n",
      "Epoch 100/100\n",
      "5/5 [==============================] - 2s 320ms/step - loss: 0.0143 - accuracy: 0.9936 - val_loss: 0.0773 - val_accuracy: 0.9299\n"
     ]
    }
   ],
   "source": [
    "print('Training model...')\n",
    "r = model.fit(\n",
    "    X_train,y_train,\n",
    "    batch_size=BATCH_SIZE,\n",
    "    epochs=EPOCHS,\n",
    "    validation_data=(X_test, y_test)\n",
    ")"
   ]
  },
  {
   "cell_type": "code",
   "execution_count": 21,
   "metadata": {},
   "outputs": [
    {
     "data": {
      "image/png": "[encoded data removed]",
      "text/plain": [
       "<Figure size 432x288 with 1 Axes>"
      ]
     },
     "metadata": {
      "needs_background": "light"
     },
     "output_type": "display_data"
    }
   ],
   "source": [
    "plt.plot(r.history['loss'], label='loss')\n",
    "plt.plot(r.history['val_loss'], label='val_loss')\n",
    "plt.legend()\n",
    "plt.show()"
   ]
  },
  {
   "cell_type": "code",
   "execution_count": 22,
   "metadata": {},
   "outputs": [
    {
     "data": {
      "image/png": "[encoded data removed]",
      "text/plain": [
       "<Figure size 432x288 with 1 Axes>"
      ]
     },
     "metadata": {
      "needs_background": "light"
     },
     "output_type": "display_data"
    }
   ],
   "source": [
    "plt.plot(r.history['accuracy'], label='acc')\n",
    "plt.plot(r.history['val_accuracy'], label='val_acc')\n",
    "plt.legend()\n",
    "plt.show()"
   ]
  },
  {
   "cell_type": "code",
   "execution_count": 23,
   "metadata": {},
   "outputs": [
    {
     "name": "stdout",
     "output_type": "stream",
     "text": [
      "0.978256806351407\n"
     ]
    }
   ],
   "source": [
    "p = model.predict(data)\n",
    "aucs = []\n",
    "for j in range(6):\n",
    "    auc = roc_auc_score(targets[:,j], p[:,j])\n",
    "    aucs.append(auc)\n",
    "print(np.mean(aucs))"
   ]
  },
  {
   "cell_type": "code",
   "execution_count": 24,
   "metadata": {},
   "outputs": [],
   "source": [
    "from sklearn.metrics import classification_report,confusion_matrix\n",
    "from sklearn.preprocessing import MultiLabelBinarizer"
   ]
  },
  {
   "cell_type": "code",
   "execution_count": 25,
   "metadata": {},
   "outputs": [],
   "source": [
    "probability = model.predict(X_test)"
   ]
  },
  {
   "cell_type": "code",
   "execution_count": 26,
   "metadata": {},
   "outputs": [],
   "source": [
    "thresh = 0.5\n",
    "predictions = np.array([[1 if i > thresh else 0 for i in j] for j in probability])"
   ]
  },
  {
   "cell_type": "code",
   "execution_count": 27,
   "metadata": {},
   "outputs": [
    {
     "name": "stdout",
     "output_type": "stream",
     "text": [
      "              precision    recall  f1-score   support\n",
      "\n",
      "           0       0.00      0.00      0.00         1\n",
      "           1       0.00      0.00      0.00         0\n",
      "           2       0.00      0.00      0.00         1\n",
      "           3       0.98      1.00      0.99        56\n",
      "           4       0.88      0.95      0.91        44\n",
      "           5       0.00      0.00      0.00         1\n",
      "           6       0.96      0.87      0.91        54\n",
      "\n",
      "   micro avg       0.94      0.92      0.93       157\n",
      "   macro avg       0.40      0.40      0.40       157\n",
      "weighted avg       0.93      0.92      0.92       157\n",
      " samples avg       0.92      0.92      0.92       157\n",
      "\n"
     ]
    }
   ],
   "source": [
    "print(classification_report(y_test,predictions))"
   ]
  },
  {
   "cell_type": "code",
   "execution_count": null,
   "metadata": {},
   "outputs": [],
   "source": []
  }
 ],
 "metadata": {
  "kernelspec": {
   "display_name": "Python 3",
   "language": "python",
   "name": "python3"
  },
  "language_info": {
   "codemirror_mode": {
    "name": "ipython",
    "version": 3
   },
   "file_extension": ".py",
   "mimetype": "text/x-python",
   "name": "python",
   "nbconvert_exporter": "python",
   "pygments_lexer": "ipython3",
   "version": "3.8.5"
  }
 },
 "nbformat": 4,
 "nbformat_minor": 4
}
